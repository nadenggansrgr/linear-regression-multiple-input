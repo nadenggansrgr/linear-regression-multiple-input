{
  "nbformat": 4,
  "nbformat_minor": 0,
  "metadata": {
    "colab": {
      "provenance": []
    },
    "kernelspec": {
      "name": "python3",
      "display_name": "Python 3"
    },
    "language_info": {
      "name": "python"
    }
  },
  "cells": [
    {
      "cell_type": "markdown",
      "source": [],
      "metadata": {
        "id": "7B0ZV_nmaGF2"
      }
    },
    {
      "cell_type": "markdown",
      "source": [
        "##1. Description\n",
        "The provided code implements the gradient descent algorithm for multiply input/feature. I am utilizing the ['multiple-linear-regression-dataset'](https://www.kaggle.com/datasets/hussainnasirkhan/multiple-linear-regression-dataset) dataset obtained from Kaggle. This dataset has three columns and twenty rows. There are two independent variables (feature) and one dependent variable (target). The independent variables are 'age' and 'experience'. The dependent variable is 'income'.\n",
        "\n"
      ],
      "metadata": {
        "id": "0omvm7MDaJZm"
      }
    },
    {
      "cell_type": "markdown",
      "source": [
        "## 2. Import dataset from Kaggle\n"
      ],
      "metadata": {
        "id": "CObEyLLOazWH"
      }
    },
    {
      "cell_type": "code",
      "source": [
        "!chmod 600 /content/kaggle.json"
      ],
      "metadata": {
        "id": "EqtK8dzqaHMP"
      },
      "execution_count": 45,
      "outputs": []
    },
    {
      "cell_type": "code",
      "source": [
        "! KAGGLE_CONFIG_DIR=/content/ kaggle datasets download -d hussainnasirkhan/multiple-linear-regression-dataset"
      ],
      "metadata": {
        "colab": {
          "base_uri": "https://localhost:8080/"
        },
        "id": "pl6O5l43Och6",
        "outputId": "2f492cca-b261-4df6-da6a-2b6c0c7b8704"
      },
      "execution_count": 25,
      "outputs": [
        {
          "output_type": "stream",
          "name": "stdout",
          "text": [
            "multiple-linear-regression-dataset.zip: Skipping, found more recently modified local copy (use --force to force download)\n"
          ]
        }
      ]
    },
    {
      "cell_type": "code",
      "source": [
        "import zipfile\n",
        "zip_file = zipfile.ZipFile('/content/multiple-linear-regression-dataset.zip', 'r')\n",
        "zip_file.extractall()"
      ],
      "metadata": {
        "id": "pz2rx5QDPHhF"
      },
      "execution_count": 26,
      "outputs": []
    },
    {
      "cell_type": "code",
      "source": [
        "import pandas as pd\n",
        "import numpy as np\n",
        "import copy, math\n",
        "import matplotlib.pyplot as plt\n",
        "from matplotlib.ticker import FormatStrFormatter"
      ],
      "metadata": {
        "id": "ZgKyARZgVqqR"
      },
      "execution_count": 27,
      "outputs": []
    },
    {
      "cell_type": "markdown",
      "source": [
        "## 3. Data Training"
      ],
      "metadata": {
        "id": "IPcTcLa9cbLr"
      }
    },
    {
      "cell_type": "code",
      "source": [
        "from prettytable import PrettyTable\n",
        "\n",
        "path = \"multiple_linear_regression_dataset.csv\"\n",
        "adv = pd.read_csv(path)\n",
        "\n",
        "print(adv)"
      ],
      "metadata": {
        "colab": {
          "base_uri": "https://localhost:8080/"
        },
        "id": "1wfYsRVQVqxy",
        "outputId": "747c77a5-dac0-4de9-9bc6-d4fdc2d06894"
      },
      "execution_count": 46,
      "outputs": [
        {
          "output_type": "stream",
          "name": "stdout",
          "text": [
            "    age  experience  income\n",
            "0    25           1   30450\n",
            "1    30           3   35670\n",
            "2    47           2   31580\n",
            "3    32           5   40130\n",
            "4    43          10   47830\n",
            "5    51           7   41630\n",
            "6    28           5   41340\n",
            "7    33           4   37650\n",
            "8    37           5   40250\n",
            "9    39           8   45150\n",
            "10   29           1   27840\n",
            "11   47           9   46110\n",
            "12   54           5   36720\n",
            "13   51           4   34800\n",
            "14   44          12   51300\n",
            "15   41           6   38900\n",
            "16   58          17   63600\n",
            "17   23           1   30870\n",
            "18   44           9   44190\n",
            "19   37          10   48700\n"
          ]
        }
      ]
    },
    {
      "cell_type": "code",
      "source": [
        "x_train  = adv[['age', 'experience']].values\n",
        "\n",
        "print(f\"X shape: {x_train.shape})\")\n",
        "print(x_train)"
      ],
      "metadata": {
        "colab": {
          "base_uri": "https://localhost:8080/"
        },
        "id": "hAZGe5CNXfKz",
        "outputId": "93bb56ab-1d7b-4141-ea81-9360c7f92b06"
      },
      "execution_count": 47,
      "outputs": [
        {
          "output_type": "stream",
          "name": "stdout",
          "text": [
            "X shape: (20, 2))\n",
            "[[25  1]\n",
            " [30  3]\n",
            " [47  2]\n",
            " [32  5]\n",
            " [43 10]\n",
            " [51  7]\n",
            " [28  5]\n",
            " [33  4]\n",
            " [37  5]\n",
            " [39  8]\n",
            " [29  1]\n",
            " [47  9]\n",
            " [54  5]\n",
            " [51  4]\n",
            " [44 12]\n",
            " [41  6]\n",
            " [58 17]\n",
            " [23  1]\n",
            " [44  9]\n",
            " [37 10]]\n"
          ]
        }
      ]
    },
    {
      "cell_type": "code",
      "source": [
        "income_array = pd.read_csv(path, usecols=['income']).values\n",
        "y_train = income_array.flatten()\n",
        "\n",
        "print(f\"Y shape: {y_train.shape})\")\n",
        "print(y_train)"
      ],
      "metadata": {
        "colab": {
          "base_uri": "https://localhost:8080/"
        },
        "id": "I9gsUyzGicCe",
        "outputId": "694d137d-0e6e-4fd3-ae9c-c33c8903512c"
      },
      "execution_count": 49,
      "outputs": [
        {
          "output_type": "stream",
          "name": "stdout",
          "text": [
            "Y shape: (20,))\n",
            "[30450 35670 31580 40130 47830 41630 41340 37650 40250 45150 27840 46110\n",
            " 36720 34800 51300 38900 63600 30870 44190 48700]\n"
          ]
        }
      ]
    },
    {
      "cell_type": "code",
      "source": [
        "# Scatter plot for age vs income\n",
        "plt.figure(figsize=(10, 5))\n",
        "plt.scatter(adv['age'], adv['income'], color='blue')\n",
        "plt.xlabel('Age')\n",
        "plt.ylabel('Income')\n",
        "plt.title('Age vs Income')\n",
        "plt.grid(True)\n",
        "plt.show()\n",
        "\n",
        "# Scatter plot for experience vs income\n",
        "plt.figure(figsize=(10, 5))\n",
        "plt.scatter(adv['experience'], adv['income'], color='green')\n",
        "plt.xlabel('Experience')\n",
        "plt.ylabel('Income')\n",
        "plt.title('Experience vs Income')\n",
        "plt.grid(True)\n",
        "plt.show()\n"
      ],
      "metadata": {
        "colab": {
          "base_uri": "https://localhost:8080/",
          "height": 957
        },
        "id": "zM4AmcRswLIi",
        "outputId": "18aea6c7-2a1c-4758-fbf6-5d5ce446dca2"
      },
      "execution_count": 50,
      "outputs": [
        {
          "output_type": "display_data",
          "data": {
            "text/plain": [
              "<Figure size 1000x500 with 1 Axes>"
            ],
            "image/png": "[encoded data removed]"
          },
          "metadata": {}
        },
        {
          "output_type": "display_data",
          "data": {
            "text/plain": [
              "<Figure size 1000x500 with 1 Axes>"
            ],
            "image/png": "[encoded data removed]"
          },
          "metadata": {}
        }
      ]
    },
    {
      "cell_type": "markdown",
      "source": [
        "## 4. compute_cost\n",
        "This function is used to calculate the cost function in the context of linear regression. The cost function measures the **overall** error between the predicted values and the actual values of the target variable.\n",
        "\n",
        "\n",
        "\n",
        "*  m = total data train\n",
        "*  f_wb_i = function/model\n",
        "\n",
        "\n"
      ],
      "metadata": {
        "id": "j4Y_cIEWchS-"
      }
    },
    {
      "cell_type": "code",
      "source": [
        "def compute_cost(x, y, w, b):\n",
        "    m = x.shape[0]\n",
        "    cost = 0\n",
        "    for i in range(m):\n",
        "        f_wb_i = np.dot(x[i], w) + b\n",
        "        cost = cost + (f_wb_i - y[i])**2\n",
        "    total_cost = 1 / (2 * m) * cost\n",
        "    return total_cost"
      ],
      "metadata": {
        "id": "jQGUIhmEmxQD"
      },
      "execution_count": 32,
      "outputs": []
    },
    {
      "cell_type": "markdown",
      "source": [
        "## 5. compute_gradient\n",
        "This function calculates the gradients of the cost function with respect to the parameters w and b in the context of linear regression. The function calculates the gradients using the partial derivatives of the cost function.The function returns these average gradients, which will be used in the gradient descent algorithm to update the model parameters w and b iteratively to minimize the cost function.\n",
        "\n",
        "*   n = total input/feature\n",
        "*   dj_dw = the gradient of the cost with respect to the parameters w.\n",
        "*   dj_db = the gradient of the cost with respect to the parameters b.\n",
        "\n",
        "\n",
        "   \n",
        "\n",
        "\n",
        "\n",
        "\n",
        "\n",
        "\n"
      ],
      "metadata": {
        "id": "L5bnr4EkdU97"
      }
    },
    {
      "cell_type": "code",
      "source": [
        "def compute_gradient(x, y, w, b):\n",
        "\n",
        "    m,n = x.shape\n",
        "    dj_dw = np.zeros((n,))\n",
        "    dj_db = 0\n",
        "\n",
        "    for i in range(m):\n",
        "        err = (np.dot(x[i], w) + b) - y[i]\n",
        "        for j in range(n):\n",
        "            dj_dw[j] = dj_dw[j] + err * x[i, j]\n",
        "        dj_db = dj_db + err\n",
        "    dj_dw = dj_dw / m\n",
        "    dj_db = dj_db / m\n",
        "\n",
        "    return dj_db, dj_dw"
      ],
      "metadata": {
        "id": "AagkVGqonohX"
      },
      "execution_count": 33,
      "outputs": []
    },
    {
      "cell_type": "markdown",
      "source": [
        "## 6. gradient_descent\n",
        "This function implements the gradient descent algorithm to minimize a cost function during training model.\n",
        "\n",
        "\n",
        "\n",
        "*   x = data (multiple features)\n",
        "*   y = target values\n",
        "*   J_history = An array to store cost J\n",
        "*   w = weights (parameter)\n",
        "*   b = bias (parameter)\n",
        "*   alpha = learning rate\n",
        "*   num_iters = number of iterations to run gradient descent\n",
        "\n",
        "\n",
        "\n",
        "\n",
        "\n",
        "\n",
        "\n"
      ],
      "metadata": {
        "id": "X-FdAyBEdk8G"
      }
    },
    {
      "cell_type": "code",
      "source": [
        "def gradient_descent(x, y, w_in, b_in, cost_function, gradient_function, alpha, num_iters):\n",
        "\n",
        "    J_history = []\n",
        "    w = copy.deepcopy(w_in)\n",
        "    b = b_in\n",
        "\n",
        "    for i in range(num_iters):\n",
        "\n",
        "        # Calculate the gradient and update the parameters\n",
        "        dj_db,dj_dw = gradient_function(x, y, w, b)\n",
        "\n",
        "        # Update Parameters using w, b, alpha and gradient\n",
        "        w = w - alpha * dj_dw\n",
        "        b = b - alpha * dj_db\n",
        "\n",
        "        # Save cost J at each iteration\n",
        "        if i<num_iters:\n",
        "            J_history.append( cost_function(x, y, w, b))\n",
        "\n",
        "        # Print cost every at intervals 10 times or as many iterations if < 10\n",
        "        if i% math.ceil(num_iters / 10) == 0:\n",
        "            print(f\"Iteration {i:4}: Cost {J_history[-1]:8.2f}   \")\n",
        "\n",
        "    return w, b, J_history"
      ],
      "metadata": {
        "id": "wBW1RLx5n-Vb"
      },
      "execution_count": 51,
      "outputs": []
    },
    {
      "cell_type": "code",
      "source": [
        "initial_w = np.array([0,0])\n",
        "initial_b = 0\n",
        "\n",
        "iterations = 1000\n",
        "alpha = 3.0e-6\n",
        "\n",
        "w_final, b_final, J_hist = gradient_descent(x_train, y_train, initial_w, initial_b,\n",
        "                                                    compute_cost, compute_gradient,\n",
        "                                                    alpha, iterations)\n",
        "print(f\"b,w found by gradient descent: {b_final:0.2f},{w_final} \")\n",
        "m,_ = x_train.shape\n",
        "for i in range(m):\n",
        "    print(f\"prediction: {np.dot(x_train[i], w_final) + b_final:0.2f}, target value: {y_train[i]}\")"
      ],
      "metadata": {
        "colab": {
          "base_uri": "https://localhost:8080/"
        },
        "id": "8JTSHYoMoFbf",
        "outputId": "8cb30acd-2451-4ab7-be51-811ffaba4634"
      },
      "execution_count": 52,
      "outputs": [
        {
          "output_type": "stream",
          "name": "stdout",
          "text": [
            "Iteration    0: Cost 855051388.42   \n",
            "Iteration  100: Cost 328823714.08   \n",
            "Iteration  200: Cost 140952420.87   \n",
            "Iteration  300: Cost 73852853.51   \n",
            "Iteration  400: Cost 49861284.43   \n",
            "Iteration  500: Cost 41256756.90   \n",
            "Iteration  600: Cost 38144670.86   \n",
            "Iteration  700: Cost 36993288.93   \n",
            "Iteration  800: Cost 36542006.40   \n",
            "Iteration  900: Cost 36340866.89   \n",
            "b,w found by gradient descent: 26.79,[956.78244426 200.08608752] \n",
            "prediction: 24146.44, target value: 30450\n",
            "prediction: 29330.52, target value: 35670\n",
            "prediction: 45395.74, target value: 31580\n",
            "prediction: 31644.26, target value: 40130\n",
            "prediction: 43169.30, target value: 47830\n",
            "prediction: 50223.30, target value: 41630\n",
            "prediction: 27817.13, target value: 41340\n",
            "prediction: 32400.96, target value: 37650\n",
            "prediction: 36428.17, target value: 40250\n",
            "prediction: 38942.00, target value: 45150\n",
            "prediction: 27973.57, target value: 27840\n",
            "prediction: 46796.34, target value: 46110\n",
            "prediction: 52693.47, target value: 36720\n",
            "prediction: 49623.04, target value: 34800\n",
            "prediction: 44526.25, target value: 51300\n",
            "prediction: 40455.39, target value: 38900\n",
            "prediction: 58921.64, target value: 63600\n",
            "prediction: 22232.87, target value: 30870\n",
            "prediction: 43925.99, target value: 44190\n",
            "prediction: 37428.60, target value: 48700\n"
          ]
        }
      ]
    },
    {
      "cell_type": "code",
      "source": [
        "import matplotlib.pyplot as plt\n",
        "\n",
        "iterations = list(range(len(J_hist)))  # Number of iterations\n",
        "cost_values = J_hist  # Corresponding cost values\n",
        "\n",
        "# Create the scatter plot\n",
        "plt.scatter(iterations, cost_values, color='blue', marker='o')\n",
        "plt.xlabel('Iterations')\n",
        "plt.ylabel('Cost')\n",
        "plt.title('Cost vs. Iterations')\n",
        "plt.grid(True)\n",
        "plt.show()\n"
      ],
      "metadata": {
        "colab": {
          "base_uri": "https://localhost:8080/",
          "height": 472
        },
        "id": "ihrigOC2tG40",
        "outputId": "2140cb8d-5c2b-49f8-b86f-b4e4285fc73f"
      },
      "execution_count": 54,
      "outputs": [
        {
          "output_type": "display_data",
          "data": {
            "text/plain": [
              "<Figure size 640x480 with 1 Axes>"
            ],
            "image/png": "[encoded data removed]"
          },
          "metadata": {}
        }
      ]
    },
    {
      "cell_type": "markdown",
      "source": [
        "## 7. Prediction\n",
        "After obtaining the optimal values for the parameters w and b, we can now utilize the model to predict housing values based on our learned parameters."
      ],
      "metadata": {
        "id": "WYuh__pld2Xv"
      }
    },
    {
      "cell_type": "code",
      "source": [
        "print(f\"Prediction for age 31 and 11 experience: {np.dot([31,11], w_final) + b_final:0.2f}\")\n",
        "print(f\"Prediction for age 26 and 21 experience: {np.dot([26,21], w_final) + b_final:0.2f}\")"
      ],
      "metadata": {
        "colab": {
          "base_uri": "https://localhost:8080/"
        },
        "id": "d_HjptxZ6i2M",
        "outputId": "629fdcad-a3f1-400b-a7c1-433cac45ddab"
      },
      "execution_count": 55,
      "outputs": [
        {
          "output_type": "stream",
          "name": "stdout",
          "text": [
            "Prediction for age 31 and 11 experience: 31887.99\n",
            "Prediction for age 26 and 21 experience: 29104.94\n"
          ]
        }
      ]
    },
    {
      "cell_type": "markdown",
      "source": [],
      "metadata": {
        "id": "higjjDi1y8ho"
      }
    }
  ]
}